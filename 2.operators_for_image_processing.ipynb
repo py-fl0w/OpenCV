{
 "cells": [
  {
   "cell_type": "markdown",
   "id": "15f8f627",
   "metadata": {},
   "source": [
    "# عملگرهای آرایه ای\n",
    "# تعریف آرایه"
   ]
  },
  {
   "cell_type": "code",
   "execution_count": 3,
   "id": "c1a0ea41",
   "metadata": {},
   "outputs": [
    {
     "name": "stdout",
     "output_type": "stream",
     "text": [
      "[[[1 2 3]]\n",
      "\n",
      " [[5 8 9]]]\n",
      "(2, 1, 3)\n"
     ]
    }
   ],
   "source": [
    "import numpy as np\n",
    "b = np.array([1,2,3,4,5])\n",
    "a = np.array([[1,2,3],[5,8,9]])\n",
    "#print(a)\n",
    "#print(a.shape)\n",
    "q = a[:,np.newaxis,:]\n",
    "print(q)\n",
    "print(q.shape)"
   ]
  },
  {
   "cell_type": "code",
   "execution_count": 30,
   "id": "0ccb69a1",
   "metadata": {},
   "outputs": [
    {
     "name": "stdout",
     "output_type": "stream",
     "text": [
      "[5 8 9]\n",
      "[2 3 4]\n",
      "[8 9]\n",
      "[3 9]\n",
      "[[2 3]\n",
      " [8 9]]\n"
     ]
    }
   ],
   "source": [
    "print(a[1])\n",
    "print(b[1:4])\n",
    "print(a[1,1:4])\n",
    "print(a[0:2,2])\n",
    "print(a[0:2,1:4])"
   ]
  },
  {
   "cell_type": "code",
   "execution_count": 12,
   "id": "b2e1c13a",
   "metadata": {},
   "outputs": [
    {
     "data": {
      "text/plain": [
       "2"
      ]
     },
     "execution_count": 12,
     "metadata": {},
     "output_type": "execute_result"
    }
   ],
   "source": [
    "#a[1][2] \n",
    "#or\n",
    "a[0,1]"
   ]
  },
  {
   "cell_type": "code",
   "execution_count": 6,
   "id": "ddc27a10",
   "metadata": {},
   "outputs": [
    {
     "name": "stdout",
     "output_type": "stream",
     "text": [
      "3\n",
      "[[1 2 3]\n",
      " [4 5 6]]\n",
      "2\n"
     ]
    },
    {
     "data": {
      "text/plain": [
       "array([[[ 7,  8,  9],\n",
       "        [10, 11, 12]]])"
      ]
     },
     "execution_count": 6,
     "metadata": {},
     "output_type": "execute_result"
    }
   ],
   "source": [
    "ar = np.array([[[1,2,3],[4,5,6]],[[7,8,9],[10,11,12]]])\n",
    "print(ar.ndim)\n",
    "print(ar[[0],[0,1]])\n",
    "print(ar[0][0,1])\n",
    "ar[1::1]"
   ]
  },
  {
   "cell_type": "code",
   "execution_count": null,
   "id": "431e5965",
   "metadata": {},
   "outputs": [],
   "source": []
  },
  {
   "cell_type": "markdown",
   "id": "c55d8736",
   "metadata": {},
   "source": [
    "# کپی کردن آرایه"
   ]
  },
  {
   "cell_type": "code",
   "execution_count": 1,
   "id": "dd042e69",
   "metadata": {},
   "outputs": [
    {
     "name": "stdout",
     "output_type": "stream",
     "text": [
      "<class 'numpy.ndarray'>\n",
      "[1 2 3 4 5]\n",
      "[42  2  3  4  5]\n"
     ]
    }
   ],
   "source": [
    "import numpy as np\n",
    "\n",
    "arr1 = np.array([1,2,3,4,5])\n",
    "x = arr1.copy()\n",
    "y = arr1.view()\n",
    "arr1[0] = 42\n",
    "print(type(arr1))\n",
    "print(x)\n",
    "print(y)"
   ]
  },
  {
   "cell_type": "code",
   "execution_count": 2,
   "id": "2de4d7ef",
   "metadata": {},
   "outputs": [
    {
     "data": {
      "text/plain": [
       "dtype('int32')"
      ]
     },
     "execution_count": 2,
     "metadata": {},
     "output_type": "execute_result"
    }
   ],
   "source": [
    "x.dtype"
   ]
  },
  {
   "cell_type": "markdown",
   "id": "06cc51f9",
   "metadata": {},
   "source": [
    "# np.int0"
   ]
  },
  {
   "cell_type": "code",
   "execution_count": 5,
   "id": "239b423b",
   "metadata": {},
   "outputs": [
    {
     "name": "stderr",
     "output_type": "stream",
     "text": [
      "C:\\Users\\Admin\\AppData\\Local\\Temp\\ipykernel_14760\\3077723794.py:1: DeprecationWarning: `np.int0` is a deprecated alias for `np.intp`.  (Deprecated NumPy 1.24)\n",
      "  np.int0(x)\n"
     ]
    },
    {
     "data": {
      "text/plain": [
       "array([1, 2, 3, 4, 5], dtype=int64)"
      ]
     },
     "execution_count": 5,
     "metadata": {},
     "output_type": "execute_result"
    }
   ],
   "source": [
    "np.int0(x)"
   ]
  },
  {
   "cell_type": "code",
   "execution_count": 4,
   "id": "489bf6dd",
   "metadata": {},
   "outputs": [
    {
     "data": {
      "text/plain": [
       "'x'"
      ]
     },
     "execution_count": 4,
     "metadata": {},
     "output_type": "execute_result"
    }
   ],
   "source": [
    "'Text'[1+1]"
   ]
  },
  {
   "cell_type": "markdown",
   "id": "db90302c",
   "metadata": {},
   "source": [
    "# آرایه دوبعدی"
   ]
  },
  {
   "cell_type": "code",
   "execution_count": 20,
   "id": "cf7945a0",
   "metadata": {},
   "outputs": [
    {
     "data": {
      "text/plain": [
       "array([[1, 2],\n",
       "       [5, 6],\n",
       "       [1, 2],\n",
       "       [5, 6]])"
      ]
     },
     "execution_count": 20,
     "metadata": {},
     "output_type": "execute_result"
    }
   ],
   "source": [
    "np.array([[1,2],[5,6],[1,2],[5,6]],ndmin=2)"
   ]
  },
  {
   "cell_type": "code",
   "execution_count": 6,
   "id": "2201a423",
   "metadata": {},
   "outputs": [
    {
     "data": {
      "text/plain": [
       "array([[1., 2.],\n",
       "       [2., 8.],\n",
       "       [9., 2.]], dtype=float32)"
      ]
     },
     "execution_count": 6,
     "metadata": {},
     "output_type": "execute_result"
    }
   ],
   "source": [
    "np.array([[1,2],[2,8],[9,2]],dtype=\"float32\")"
   ]
  },
  {
   "cell_type": "code",
   "execution_count": 5,
   "id": "c4b94f50",
   "metadata": {},
   "outputs": [
    {
     "name": "stdout",
     "output_type": "stream",
     "text": [
      "[[[[3 2 3]]]]\n"
     ]
    }
   ],
   "source": [
    "import numpy as np\n",
    "arr = np.array((3,2,3),ndmin=4)\n",
    "arr.ndim\n",
    "print(arr)\n"
   ]
  },
  {
   "cell_type": "code",
   "execution_count": 7,
   "id": "99df996b",
   "metadata": {},
   "outputs": [
    {
     "data": {
      "text/plain": [
       "array([[1, 2],\n",
       "       [2, 8],\n",
       "       [9, 2]], dtype=uint8)"
      ]
     },
     "execution_count": 7,
     "metadata": {},
     "output_type": "execute_result"
    }
   ],
   "source": [
    "np.array([[1,2],[2,8],[9,2]],dtype=\"uint8\")"
   ]
  },
  {
   "cell_type": "code",
   "execution_count": 9,
   "id": "429ef49f",
   "metadata": {},
   "outputs": [
    {
     "data": {
      "text/plain": [
       "dtype('int32')"
      ]
     },
     "execution_count": 9,
     "metadata": {},
     "output_type": "execute_result"
    }
   ],
   "source": [
    "np.array([[1,2],[2,8],[9,2]]).dtype"
   ]
  },
  {
   "cell_type": "markdown",
   "id": "676825cb",
   "metadata": {},
   "source": [
    "# الحاق دو آرایه به هم"
   ]
  },
  {
   "cell_type": "code",
   "execution_count": 1,
   "id": "ddb06057",
   "metadata": {},
   "outputs": [
    {
     "name": "stdout",
     "output_type": "stream",
     "text": [
      "[[1 2 3 4 6 9 8 7]\n",
      " [1 5 8 1 2 8 9 4]]\n",
      "[[1 2 3 4 6 9 8 7]\n",
      " [1 5 8 1 2 8 9 4]]\n",
      "[[1 2 3 4 6 9 8 7]\n",
      " [1 5 8 1 2 8 9 4]]\n"
     ]
    }
   ],
   "source": [
    "import numpy as np\n",
    "d = np.array([[1,2,3,4],[1,5,8,1]])\n",
    "f = np.array([[6,9,8,7],[2,8,9,4]])\n",
    "arr = np.concatenate((d,f),axis=1)\n",
    "arr2 = np.append(d,f,axis=1)\n",
    "#arr1 = np.stack((d,f),axis=0)\n",
    "arr1 = np.hstack((d,f))\n",
    "#arr =np.hstack((d,f))\n",
    "print((arr))\n",
    "print((arr1))\n",
    "print(arr2)"
   ]
  },
  {
   "cell_type": "markdown",
   "id": "26e917c0",
   "metadata": {},
   "source": [
    "# آرایه های واحد وصفر"
   ]
  },
  {
   "cell_type": "code",
   "execution_count": 9,
   "id": "6b7301c5",
   "metadata": {},
   "outputs": [
    {
     "data": {
      "text/plain": [
       "array([[[[0., 0.],\n",
       "         [0., 0.],\n",
       "         [0., 0.],\n",
       "         [0., 0.]],\n",
       "\n",
       "        [[0., 0.],\n",
       "         [0., 0.],\n",
       "         [0., 0.],\n",
       "         [0., 0.]],\n",
       "\n",
       "        [[0., 0.],\n",
       "         [0., 0.],\n",
       "         [0., 0.],\n",
       "         [0., 0.]]],\n",
       "\n",
       "\n",
       "       [[[0., 0.],\n",
       "         [0., 0.],\n",
       "         [0., 0.],\n",
       "         [0., 0.]],\n",
       "\n",
       "        [[0., 0.],\n",
       "         [0., 0.],\n",
       "         [0., 0.],\n",
       "         [0., 0.]],\n",
       "\n",
       "        [[0., 0.],\n",
       "         [0., 0.],\n",
       "         [0., 0.],\n",
       "         [0., 0.]]]])"
      ]
     },
     "execution_count": 9,
     "metadata": {},
     "output_type": "execute_result"
    }
   ],
   "source": [
    "np.zeros((2,3,4,2))"
   ]
  },
  {
   "cell_type": "code",
   "execution_count": 4,
   "id": "61a006bb",
   "metadata": {},
   "outputs": [
    {
     "data": {
      "text/plain": [
       "array([[[0., 0., 0., 0., 0.],\n",
       "        [0., 0., 0., 0., 0.],\n",
       "        [0., 0., 0., 0., 0.],\n",
       "        [0., 0., 0., 0., 0.]],\n",
       "\n",
       "       [[0., 0., 0., 0., 0.],\n",
       "        [0., 0., 0., 0., 0.],\n",
       "        [0., 0., 0., 0., 0.],\n",
       "        [0., 0., 0., 0., 0.]],\n",
       "\n",
       "       [[0., 0., 0., 0., 0.],\n",
       "        [0., 0., 0., 0., 0.],\n",
       "        [0., 0., 0., 0., 0.],\n",
       "        [0., 0., 0., 0., 0.]]])"
      ]
     },
     "execution_count": 4,
     "metadata": {},
     "output_type": "execute_result"
    }
   ],
   "source": [
    "np.zeros((3,4,5))"
   ]
  },
  {
   "cell_type": "code",
   "execution_count": 13,
   "id": "2d64791c",
   "metadata": {},
   "outputs": [
    {
     "data": {
      "text/plain": [
       "dtype('float64')"
      ]
     },
     "execution_count": 13,
     "metadata": {},
     "output_type": "execute_result"
    }
   ],
   "source": [
    "np.zeros((3,4)).dtype"
   ]
  },
  {
   "cell_type": "code",
   "execution_count": 23,
   "id": "5abbb48f",
   "metadata": {},
   "outputs": [
    {
     "data": {
      "text/plain": [
       "array([[1, 1, 1, 1],\n",
       "       [1, 1, 1, 1],\n",
       "       [1, 1, 1, 1]], dtype=uint16)"
      ]
     },
     "execution_count": 23,
     "metadata": {},
     "output_type": "execute_result"
    }
   ],
   "source": [
    "np.ones((3,4),dtype=\"uint16\")"
   ]
  },
  {
   "cell_type": "code",
   "execution_count": 15,
   "id": "7730064f",
   "metadata": {},
   "outputs": [
    {
     "data": {
      "text/plain": [
       "dtype('float64')"
      ]
     },
     "execution_count": 15,
     "metadata": {},
     "output_type": "execute_result"
    }
   ],
   "source": [
    "np.ones((3,4)).dtype"
   ]
  },
  {
   "cell_type": "markdown",
   "id": "54dc55fd",
   "metadata": {},
   "source": [
    "# رسم مربع ومستطیل روی تصویر"
   ]
  },
  {
   "cell_type": "code",
   "execution_count": 7,
   "id": "a071a637",
   "metadata": {},
   "outputs": [],
   "source": [
    "import cv2\n",
    "import numpy as np\n",
    "\n",
    "paper = np.ones((480,640,3),dtype=np.uint8)\n",
    "paper[:,20:100] = 255\n",
    "#print(paper[10,25])\n",
    "paper[:,540:620] = 255\n",
    "paper[200:280,200:280]=(0,255,0)\n",
    "\n",
    "cv2.imshow('Paper',paper)\n",
    "cv2.waitKey()\n",
    "cv2.destroyAllWindows()"
   ]
  },
  {
   "cell_type": "markdown",
   "id": "9003e2bb",
   "metadata": {},
   "source": [
    "# numpy تبدیل آرایه به نوع "
   ]
  },
  {
   "cell_type": "code",
   "execution_count": 16,
   "id": "09ff227f",
   "metadata": {},
   "outputs": [
    {
     "data": {
      "text/plain": [
       "array([[3, 5],\n",
       "       [8, 6]])"
      ]
     },
     "execution_count": 16,
     "metadata": {},
     "output_type": "execute_result"
    }
   ],
   "source": [
    "import numpy as np\n",
    "a = [1,3]\n",
    "b = [[3,5],[8,6]]\n",
    "\n",
    "np.asarray(b)\n",
    "#np.array(b)\n"
   ]
  },
  {
   "cell_type": "code",
   "execution_count": 19,
   "id": "cb7c2e36",
   "metadata": {},
   "outputs": [
    {
     "data": {
      "text/plain": [
       "array([[[3., 5.],\n",
       "        [8., 6.]]], dtype=float16)"
      ]
     },
     "execution_count": 19,
     "metadata": {},
     "output_type": "execute_result"
    }
   ],
   "source": [
    "np.asarray([b],dtype=np.float16)"
   ]
  },
  {
   "cell_type": "markdown",
   "id": "463f690f",
   "metadata": {},
   "source": [
    "# تغییرشکل آرایه"
   ]
  },
  {
   "cell_type": "code",
   "execution_count": 5,
   "id": "1897c6a3",
   "metadata": {},
   "outputs": [
    {
     "name": "stdout",
     "output_type": "stream",
     "text": [
      "[[2 3]\n",
      " [4 5]\n",
      " [1 8]]\n",
      "(3, 2)\n"
     ]
    }
   ],
   "source": [
    "import numpy as np\n",
    "\n",
    "#a = np.array([[1,2],[8,5],[4,9]],dtype=np.uint8)\n",
    "a = np.array([(2,3),(4,5),(1,8)],dtype=np.uint8)\n",
    "print(a)\n",
    "print(a.shape)"
   ]
  },
  {
   "cell_type": "code",
   "execution_count": 35,
   "id": "78205490",
   "metadata": {},
   "outputs": [
    {
     "name": "stdout",
     "output_type": "stream",
     "text": [
      "[[[[[1 2 3]]]]]\n",
      "(1, 1, 1, 1, 3)\n"
     ]
    }
   ],
   "source": [
    "c = np.array([1,2,3],ndmin=5)\n",
    "print(c)\n",
    "print(c.shape)"
   ]
  },
  {
   "cell_type": "code",
   "execution_count": 9,
   "id": "8e32c09a",
   "metadata": {},
   "outputs": [
    {
     "name": "stdout",
     "output_type": "stream",
     "text": [
      "[[[ 1  5]\n",
      "  [ 8  6]\n",
      "  [ 4  0]]\n",
      "\n",
      " [[78 21]\n",
      "  [ 9 11]\n",
      "  [ 0 14]]]\n"
     ]
    }
   ],
   "source": [
    "import numpy as np\n",
    "z = np.array([1,5,8,6,4,0,78,21,9,11,0,14])\n",
    "a = np.array([[1,2],[8,5],[4,9]],dtype=np.uint8)\n",
    "e = np.array([[5,8],[3,7],[8,10],[0,0]])\n",
    "\n",
    "#print(np.reshape(a,(2,3,1)))## or  a.reshape((2,3))\n",
    "#print(z.reshape(4,3))\n",
    "print(z.reshape(2,3,2))\n",
    "#w = e.reshape(-1,1,1)\n",
    "#print(w)\n",
    "#w.shape"
   ]
  },
  {
   "cell_type": "code",
   "execution_count": 11,
   "id": "c9b5c470",
   "metadata": {},
   "outputs": [
    {
     "name": "stdout",
     "output_type": "stream",
     "text": [
      "(4, 2)\n"
     ]
    },
    {
     "data": {
      "text/plain": [
       "array([[[ 5,  8,  3,  7],\n",
       "        [ 8, 10,  0,  0]]])"
      ]
     },
     "execution_count": 11,
     "metadata": {},
     "output_type": "execute_result"
    }
   ],
   "source": [
    "e = np.array([[5,8],[3,7],[8,10],[0,0]])\n",
    "print(e.shape)\n",
    "e.reshape(-1,2,4)"
   ]
  },
  {
   "cell_type": "code",
   "execution_count": 5,
   "id": "5230fb65",
   "metadata": {},
   "outputs": [
    {
     "data": {
      "text/plain": [
       "array([1, 2, 8, 5, 4, 9], dtype=uint8)"
      ]
     },
     "execution_count": 5,
     "metadata": {},
     "output_type": "execute_result"
    }
   ],
   "source": [
    "import numpy as np\n",
    "\n",
    "a = np.array([[1,2],[8,5],[4,9]],dtype=np.uint8)\n",
    "np.reshape(a,(-1))##or  a.reshape((-1,))"
   ]
  },
  {
   "cell_type": "markdown",
   "id": "39c9aa18",
   "metadata": {},
   "source": [
    "iterating"
   ]
  },
  {
   "cell_type": "code",
   "execution_count": 41,
   "id": "065351b5",
   "metadata": {},
   "outputs": [
    {
     "name": "stdout",
     "output_type": "stream",
     "text": [
      "[1 3 9]\n",
      "[7 5 1]\n"
     ]
    }
   ],
   "source": [
    "import numpy as np\n",
    "q = np.array([[1,3,9],[7,5,1]])\n",
    "for i in q:\n",
    "    print(i)"
   ]
  },
  {
   "cell_type": "markdown",
   "id": "988cd626",
   "metadata": {},
   "source": [
    "# تغییر نوع داده ها\n",
    "\n",
    "##int8,int16,int32,int64 or int0##uint8,uint16,uint32,uint64##float16,float32,float64##complex64,complex128"
   ]
  },
  {
   "cell_type": "code",
   "execution_count": 15,
   "id": "e9ccd65a",
   "metadata": {},
   "outputs": [
    {
     "name": "stderr",
     "output_type": "stream",
     "text": [
      "C:\\Users\\Admin\\AppData\\Local\\Temp\\ipykernel_15284\\3778643919.py:12: DeprecationWarning: `np.int0` is a deprecated alias for `np.intp`.  (Deprecated NumPy 1.24)\n",
      "  np.int0(a)\n"
     ]
    },
    {
     "data": {
      "text/plain": [
       "array([ 1,  2,  3, -3], dtype=int64)"
      ]
     },
     "execution_count": 15,
     "metadata": {},
     "output_type": "execute_result"
    }
   ],
   "source": [
    "import numpy as np\n",
    "\n",
    "from skimage import img_as_ubyte\n",
    "#from skimage import img_as_afloat\n",
    "from skimage import img_as_uint\n",
    "from skimage import img_as_int\n",
    "\n",
    "a = np.array([1,2,3.5,-3.8])\n",
    "a.astype ('uint16')\n",
    "##or\n",
    "#np.uint32(a)\n",
    "np.int0(a)\n",
    "##or\n",
    "#b = np.array([1,0,0.9,-1])\n",
    "#img_as_ubyte(b)"
   ]
  },
  {
   "cell_type": "markdown",
   "id": "290d1d6f",
   "metadata": {},
   "source": [
    "# مرتب کردن آرایه ها\n",
    "sorted(x,key=,reverse=)"
   ]
  },
  {
   "cell_type": "code",
   "execution_count": 52,
   "id": "3ac879ce",
   "metadata": {},
   "outputs": [
    {
     "data": {
      "text/plain": [
       "[9, 8, 5, 2]"
      ]
     },
     "execution_count": 52,
     "metadata": {},
     "output_type": "execute_result"
    }
   ],
   "source": [
    "import numpy as np\n",
    "x = np.array([5,2,8,9])\n",
    "\n",
    "sorted(x,reverse=True)"
   ]
  },
  {
   "cell_type": "code",
   "execution_count": 6,
   "id": "b926eedd",
   "metadata": {},
   "outputs": [
    {
     "data": {
      "text/plain": [
       "array(['Hello', 'a', 'apple', 'dog', 'string'], dtype='<U6')"
      ]
     },
     "execution_count": 6,
     "metadata": {},
     "output_type": "execute_result"
    }
   ],
   "source": [
    "import numpy as np\n",
    "x = np.array(['Hello','a','apple','dog','string'])\n",
    "\n",
    "sorted(x, key = str.lower)\n",
    "x"
   ]
  },
  {
   "cell_type": "code",
   "execution_count": 8,
   "id": "9eaa6367",
   "metadata": {},
   "outputs": [
    {
     "name": "stdout",
     "output_type": "stream",
     "text": [
      "[array(['Zahra', 'B', '10'], dtype='<U11'), array(['Hasan', 'A', '12'], dtype='<U11'), array(['Ali', 'A', '15'], dtype='<U11')]\n",
      "[['Ali' 'A' '15']\n",
      " ['Hasan' 'A' '12']\n",
      " ['Zahra' 'B' '10']]\n"
     ]
    }
   ],
   "source": [
    "import numpy as np\n",
    "x = np.array([['Ali','A',15],\n",
    "            ['Hasan','A',12],\n",
    "            ['Zahra','B',10]])\n",
    "\n",
    "print(sorted(x,key = lambda  x: x[2]))\n",
    "print(x)"
   ]
  },
  {
   "cell_type": "markdown",
   "id": "09744719",
   "metadata": {},
   "source": [
    "# برگرداندن اندیس های اولیه بعد از مرتب کردن آرایه"
   ]
  },
  {
   "cell_type": "code",
   "execution_count": 39,
   "id": "9f27947a",
   "metadata": {},
   "outputs": [
    {
     "name": "stdout",
     "output_type": "stream",
     "text": [
      "[1 2 0]\n",
      "[[250  20]\n",
      " [120 200]\n",
      " [110 220]]\n"
     ]
    }
   ],
   "source": [
    "import numpy as np\n",
    "b = np.array([[110,220],\n",
    "              [250,20],\n",
    "              [120,200]])\n",
    "#print(np.sort(b))باید شرط مرتب سازی بصورتی داده شود که خروجی وکتور شود سپس براساس وکتور مقادیر آرایه مرتب شده بذست می آید\n",
    "print(np.argsort(b[:,1]))\n",
    "out =b[np.argsort(b[:,1])]\n",
    "print(out)"
   ]
  },
  {
   "cell_type": "code",
   "execution_count": 5,
   "id": "b15b1488",
   "metadata": {},
   "outputs": [
    {
     "data": {
      "text/plain": [
       "array([[[[[ 8, 10]],\n",
       "\n",
       "         [[10,  5]]]],\n",
       "\n",
       "\n",
       "\n",
       "       [[[[10,  5]],\n",
       "\n",
       "         [[ 8, 10]]]],\n",
       "\n",
       "\n",
       "\n",
       "       [[[[10,  5]],\n",
       "\n",
       "         [[ 8, 10]]]]])"
      ]
     },
     "execution_count": 5,
     "metadata": {},
     "output_type": "execute_result"
    }
   ],
   "source": [
    "b[out]"
   ]
  },
  {
   "cell_type": "markdown",
   "id": "ffa651c5",
   "metadata": {},
   "source": [
    "# itemgetter"
   ]
  },
  {
   "cell_type": "code",
   "execution_count": 23,
   "id": "e7230c63",
   "metadata": {},
   "outputs": [
    {
     "data": {
      "text/plain": [
       "[array(['Hasan', 'A', '12'], dtype='<U11'),\n",
       " array(['Ali', 'A', '15'], dtype='<U11'),\n",
       " array(['Zahra', 'B', '10'], dtype='<U11')]"
      ]
     },
     "execution_count": 23,
     "metadata": {},
     "output_type": "execute_result"
    }
   ],
   "source": [
    "from operator import itemgetter\n",
    "import numpy as np\n",
    "x = np.array([['Ali','A',15],\n",
    "            ['Hasan','A',12],\n",
    "            ['Zahra','B',10]])\n",
    "\n",
    "sorted(x,key = itemgetter(1,2))\n",
    "\n"
   ]
  },
  {
   "cell_type": "code",
   "execution_count": 22,
   "id": "ad65a6de",
   "metadata": {},
   "outputs": [
    {
     "name": "stdout",
     "output_type": "stream",
     "text": [
      "Help on class itemgetter in module operator:\n",
      "\n",
      "class itemgetter(builtins.object)\n",
      " |  itemgetter(item, ...) --> itemgetter object\n",
      " |  \n",
      " |  Return a callable object that fetches the given item(s) from its operand.\n",
      " |  After f = itemgetter(2), the call f(r) returns r[2].\n",
      " |  After g = itemgetter(2, 5, 3), the call g(r) returns (r[2], r[5], r[3])\n",
      " |  \n",
      " |  Methods defined here:\n",
      " |  \n",
      " |  __call__(self, /, *args, **kwargs)\n",
      " |      Call self as a function.\n",
      " |  \n",
      " |  __getattribute__(self, name, /)\n",
      " |      Return getattr(self, name).\n",
      " |  \n",
      " |  __reduce__(...)\n",
      " |      Return state information for pickling\n",
      " |  \n",
      " |  __repr__(self, /)\n",
      " |      Return repr(self).\n",
      " |  \n",
      " |  ----------------------------------------------------------------------\n",
      " |  Static methods defined here:\n",
      " |  \n",
      " |  __new__(*args, **kwargs) from builtins.type\n",
      " |      Create and return a new object.  See help(type) for accurate signature.\n",
      "\n"
     ]
    }
   ],
   "source": [
    "help(itemgetter)"
   ]
  },
  {
   "cell_type": "code",
   "execution_count": 21,
   "id": "9e68ca3d",
   "metadata": {},
   "outputs": [
    {
     "data": {
      "text/plain": [
       "[array(['Zahra', 'B', '10'], dtype='<U11'),\n",
       " array(['Hasan', 'A', '12'], dtype='<U11'),\n",
       " array(['Ali', 'A', '15'], dtype='<U11')]"
      ]
     },
     "execution_count": 21,
     "metadata": {},
     "output_type": "execute_result"
    }
   ],
   "source": [
    "from operator import itemgetter\n",
    "import numpy as np\n",
    "x = np.array([['Ali','A',15],\n",
    "            ['Hasan','A',12],\n",
    "            ['Zahra','B',10]])\n",
    "\n",
    "sorted(x,key = itemgetter(0,1),reverse=True)"
   ]
  },
  {
   "cell_type": "markdown",
   "id": "1b179b5f",
   "metadata": {},
   "source": [
    "# پیمایش عناصر واندیس های ماتریس\n",
    "\n",
    "for  i,j  in  np.ndenumerate"
   ]
  },
  {
   "cell_type": "markdown",
   "id": "727ec29d",
   "metadata": {},
   "source": [
    "# np.unique(labels)\n",
    "تعداد برچسب هایی که به اجسام داده شده را برمیگرداند"
   ]
  },
  {
   "cell_type": "markdown",
   "id": "72f700cc",
   "metadata": {},
   "source": [
    "# انتساب داده به لیست"
   ]
  },
  {
   "cell_type": "code",
   "execution_count": 39,
   "id": "3f7b93bc",
   "metadata": {},
   "outputs": [
    {
     "name": "stdout",
     "output_type": "stream",
     "text": [
      "[2, 5, 8, [1, 3, 8]]\n"
     ]
    }
   ],
   "source": [
    "\n",
    "x = [2,5,8]\n",
    "x.append([1,3,8])\n",
    "print(x)"
   ]
  },
  {
   "cell_type": "code",
   "execution_count": 40,
   "id": "28490c48",
   "metadata": {},
   "outputs": [
    {
     "name": "stdout",
     "output_type": "stream",
     "text": [
      "[2, 5, 8, 1, 3, 8]\n"
     ]
    }
   ],
   "source": [
    "\n",
    "x = [2,5,8]\n",
    "x.extend([1,3,8])\n",
    "print(x)"
   ]
  },
  {
   "cell_type": "markdown",
   "id": "4258f015",
   "metadata": {},
   "source": [
    "# opencv  حداقل و حداکثر داده در "
   ]
  },
  {
   "cell_type": "markdown",
   "id": "5e9674a4",
   "metadata": {},
   "source": [
    "minLoc,minVal--maxLoc,maxVal = cv2.minMaxLoc(X)"
   ]
  },
  {
   "cell_type": "code",
   "execution_count": 1,
   "id": "7ec61835",
   "metadata": {},
   "outputs": [
    {
     "name": "stdout",
     "output_type": "stream",
     "text": [
      "[[  1   2   3  10 100  20  15  -4   0]\n",
      " [ -6   5   6   9 110   4   5   6   2]]\n",
      "110.0 (4, 1)\n",
      "-6.0 (0, 1)\n"
     ]
    },
    {
     "data": {
      "text/plain": [
       "array([[  0, 255,   0,   0,   0,   0,   0,   0,   0],\n",
       "       [  0,   0,   0,   0,   0,   0,   0,   0, 255]])"
      ]
     },
     "execution_count": 1,
     "metadata": {},
     "output_type": "execute_result"
    }
   ],
   "source": [
    "import cv2\n",
    "import numpy as np\n",
    "x = np.array([[1,2,3,10,100,20,15,-4,0],[-6,5,6,9,110,4,5,6,2]],dtype='int8')\n",
    "print(x)\n",
    "minVal,maxVal,minLoc,maxLoc = cv2.minMaxLoc(x)\n",
    "print(maxVal,maxLoc)\n",
    "print(minVal,minLoc)\n",
    "np.where(x==2,255,0)\n"
   ]
  },
  {
   "cell_type": "markdown",
   "id": "ce007fce",
   "metadata": {},
   "source": [
    "# تبدیل آرایه چند بعدی به یک بعدی "
   ]
  },
  {
   "cell_type": "code",
   "execution_count": 42,
   "id": "3902a713",
   "metadata": {},
   "outputs": [
    {
     "data": {
      "text/plain": [
       "array([1, 2, 3, 4, 5, 6])"
      ]
     },
     "execution_count": 42,
     "metadata": {},
     "output_type": "execute_result"
    }
   ],
   "source": [
    "import numpy as np\n",
    "x = np.array([[1,2,3],[4,5,6]])\n",
    "x.flatten()"
   ]
  },
  {
   "cell_type": "code",
   "execution_count": 43,
   "id": "c312673a",
   "metadata": {},
   "outputs": [
    {
     "data": {
      "text/plain": [
       "array([1, 2, 3, 4, 5, 6])"
      ]
     },
     "execution_count": 43,
     "metadata": {},
     "output_type": "execute_result"
    }
   ],
   "source": [
    "import numpy as np\n",
    "x = np.array([[1,2,3],[4,5,6]])\n",
    "np.ravel(x)"
   ]
  },
  {
   "cell_type": "code",
   "execution_count": 29,
   "id": "1a286169",
   "metadata": {},
   "outputs": [
    {
     "data": {
      "text/plain": [
       "array([1, 2, 3, 4, 5, 6])"
      ]
     },
     "execution_count": 29,
     "metadata": {},
     "output_type": "execute_result"
    }
   ],
   "source": [
    "import numpy as np\n",
    "x = np.array([[1,2,3],[4,5,6]])\n",
    "#np.reshape(x,-1) \n",
    "x.reshape(-1)"
   ]
  },
  {
   "cell_type": "markdown",
   "id": "9268f849",
   "metadata": {},
   "source": [
    "# چسباندن آرایه ها به یکدیگر"
   ]
  },
  {
   "cell_type": "code",
   "execution_count": 25,
   "id": "9a02ade2",
   "metadata": {},
   "outputs": [
    {
     "name": "stdout",
     "output_type": "stream",
     "text": [
      "[[1 6]\n",
      " [2 9]\n",
      " [3 8]\n",
      " [4 7]]\n"
     ]
    }
   ],
   "source": [
    "import numpy as np\n",
    "d = np.array([1,2,3,4])\n",
    "f = np.array([6,9,8,7])\n",
    "arr = np.stack((d,f),axis=1)\n",
    "print((arr))"
   ]
  },
  {
   "cell_type": "code",
   "execution_count": 14,
   "id": "8c4e7e3f",
   "metadata": {},
   "outputs": [
    {
     "name": "stdout",
     "output_type": "stream",
     "text": [
      "[[[1 2 3 4]\n",
      "  [6 9 8 7]]\n",
      "\n",
      " [[1 5 8 1]\n",
      "  [2 8 9 4]]]\n"
     ]
    }
   ],
   "source": [
    "import numpy as np\n",
    "d = np.array([[1,2,3,4],[1,5,8,1]])\n",
    "f = np.array([[6,9,8,7],[2,8,9,4]])\n",
    "arr = np.stack((d,f),axis=1)\n",
    "print((arr))"
   ]
  },
  {
   "cell_type": "code",
   "execution_count": 15,
   "id": "9771094f",
   "metadata": {},
   "outputs": [
    {
     "name": "stdout",
     "output_type": "stream",
     "text": [
      "[[1 2 3 4]\n",
      " [6 9 8 7]]\n"
     ]
    }
   ],
   "source": [
    "import numpy as np\n",
    "d = np.array([1,2,3,4])\n",
    "f = np.array([6,9,8,7])\n",
    "arr = np.stack((d,f),axis=0)\n",
    "print((arr))"
   ]
  },
  {
   "cell_type": "markdown",
   "id": "ceb736da",
   "metadata": {},
   "source": [
    "# چسباندن افقی و عمودی دو تصویر به یکدیگر"
   ]
  },
  {
   "cell_type": "code",
   "execution_count": 1,
   "id": "5aa11be5",
   "metadata": {},
   "outputs": [
    {
     "name": "stdout",
     "output_type": "stream",
     "text": [
      "(244, 208, 3)\n"
     ]
    }
   ],
   "source": [
    "import cv2\n",
    "import numpy as np\n",
    "\n",
    "im1 = cv2.imread(r\"D:\\jupiter\\OpenCv\\face1.jpg\")\n",
    "im2 = cv2.imread(r\"D:\\jupiter\\OpenCv\\face2.jpg\")\n",
    "im2 = cv2.resize(im2,(im1.shape[1],im1.shape[0]))\n",
    "#im1 = np.stack(im1,0)\n",
    "#im1 = [letterbox(im1,None,new_shape=(416,256),auto=True,interp=cv2.INTER_LINEAR)[0]]\n",
    "#cv2.imshow(\"s\",im1)\n",
    "attach = np.stack(im1,0)\n",
    "print(attach.shape)\n",
    "cv2.imshow(\"Attaching two images horizontally\",attach)\n",
    "\n",
    "attach = np.vstack((im1,im2,im2))\n",
    "cv2.imshow(\"Attaching two images vertically\",attach)\n",
    "\n",
    "cv2.waitKey()\n",
    "cv2.destroyAllWindows()\n"
   ]
  },
  {
   "cell_type": "markdown",
   "id": "e050ec3e",
   "metadata": {},
   "source": [
    "\n",
    "# تفکیک وادغام کانال های تصویر"
   ]
  },
  {
   "cell_type": "markdown",
   "id": "cfb615a9",
   "metadata": {},
   "source": [
    "a,b,c = cv2.split(array)\n",
    "\n",
    "array = cv2.merge(a,b,c)"
   ]
  },
  {
   "cell_type": "code",
   "execution_count": 22,
   "id": "a1ed2acd",
   "metadata": {},
   "outputs": [
    {
     "name": "stdout",
     "output_type": "stream",
     "text": [
      "(288, 1621, 3)\n",
      "(288, 1621)\n"
     ]
    }
   ],
   "source": [
    "import cv2 \n",
    "import numpy as np\n",
    "\n",
    "img = cv2.imread(\"C:\\\\Users\\\\NSC\\\\Pictures\\\\Untitled.jpg\")\n",
    "print(img.shape)\n",
    "(B,G,R) = cv2.split(img)\n",
    "#print(B)\n",
    "print(B.shape)\n",
    "splited = np.vstack((B,G,R))\n",
    "merged = cv2.merge((B,G,R))\n",
    "cv2.imshow('Split channels',splited)\n",
    "cv2.imshow('merged channels',merged)\n",
    "cv2.waitKey()\n",
    "cv2.destroyAllWindows()"
   ]
  },
  {
   "cell_type": "markdown",
   "id": "d438d783",
   "metadata": {},
   "source": [
    "# قرینه کردن"
   ]
  },
  {
   "cell_type": "markdown",
   "id": "491097b6",
   "metadata": {},
   "source": [
    "cv2.flip(image,flag)\n",
    "\n",
    "#0 قرینه کردن حول محور افقی\n",
    "\n",
    "#1 قرینه کردن حول محور عمودی\n",
    "\n",
    "#-1 قرینه کردن نسبت به هر دو محور\n",
    "\n",
    "اینکار با 2حلقه تکرار و چیدمان برعکس پیکسل ها در یک ماتریس جدید امکان پذیر است"
   ]
  },
  {
   "cell_type": "code",
   "execution_count": 30,
   "id": "7767e74b",
   "metadata": {},
   "outputs": [],
   "source": [
    "import cv2\n",
    "\n",
    "img1 = cv2.imread(r\"D:\\jupiter\\OpenCv\\photo_2024-01-22_16-44-05.jpg\")\n",
    "\n",
    "\n",
    "result = cv2.flip(img1,-1)\n",
    "cv2.imshow(\"result\",result)\n",
    "cv2.waitKey(0)\n",
    "cv2.destroyAllWindows()"
   ]
  },
  {
   "cell_type": "markdown",
   "id": "5a9be27e",
   "metadata": {},
   "source": [
    "# عملگرهای ریاضی"
   ]
  },
  {
   "cell_type": "markdown",
   "id": "1765f1da",
   "metadata": {},
   "source": [
    "جمع و تفریق در پایتون + -"
   ]
  },
  {
   "cell_type": "code",
   "execution_count": 2,
   "id": "9a2c334c",
   "metadata": {},
   "outputs": [
    {
     "name": "stderr",
     "output_type": "stream",
     "text": [
      "C:\\Users\\Admin\\AppData\\Local\\Temp\\ipykernel_15568\\673114661.py:2: DeprecationWarning: NumPy will stop allowing conversion of out-of-bound Python integers to integer arrays.  The conversion of 265 to uint8 will fail in the future.\n",
      "For the old behavior, usually:\n",
      "    np.array(value).astype(dtype)\n",
      "will give the desired result (the cast overflows).\n",
      "  np.uint8([200])-np.uint8([265])\n"
     ]
    },
    {
     "data": {
      "text/plain": [
       "array([191], dtype=uint8)"
      ]
     },
     "execution_count": 2,
     "metadata": {},
     "output_type": "execute_result"
    }
   ],
   "source": [
    "import numpy as np\n",
    "np.uint8([200])-np.uint8([265])"
   ]
  },
  {
   "cell_type": "code",
   "execution_count": 19,
   "id": "bf04d023",
   "metadata": {},
   "outputs": [
    {
     "data": {
      "text/plain": [
       "array([ True,  True])"
      ]
     },
     "execution_count": 19,
     "metadata": {},
     "output_type": "execute_result"
    }
   ],
   "source": [
    "import numpy as np\n",
    "np.add(np.uint8([200,200]),np.uint8([100,100])) == np.uint8([200,200])+np.uint8([100,100])\n"
   ]
  },
  {
   "cell_type": "code",
   "execution_count": 3,
   "id": "4a714f39",
   "metadata": {},
   "outputs": [
    {
     "name": "stderr",
     "output_type": "stream",
     "text": [
      "C:\\Users\\Admin\\AppData\\Local\\Temp\\ipykernel_15568\\1952891903.py:2: DeprecationWarning: NumPy will stop allowing conversion of out-of-bound Python integers to integer arrays.  The conversion of 256 to uint8 will fail in the future.\n",
      "For the old behavior, usually:\n",
      "    np.array(value).astype(dtype)\n",
      "will give the desired result (the cast overflows).\n",
      "  np.uint8([100,200])-np.uint8([100,256])\n"
     ]
    },
    {
     "data": {
      "text/plain": [
       "array([  0, 200], dtype=uint8)"
      ]
     },
     "execution_count": 3,
     "metadata": {},
     "output_type": "execute_result"
    }
   ],
   "source": [
    "import numpy as np\n",
    "np.uint8([100,200])-np.uint8([100,256])"
   ]
  },
  {
   "cell_type": "code",
   "execution_count": 22,
   "id": "9907fb44",
   "metadata": {},
   "outputs": [
    {
     "data": {
      "text/plain": [
       "array([300.], dtype=float32)"
      ]
     },
     "execution_count": 22,
     "metadata": {},
     "output_type": "execute_result"
    }
   ],
   "source": [
    "import numpy as np\n",
    "np.float32([200])+np.float32([100])"
   ]
  },
  {
   "cell_type": "markdown",
   "id": "3ba79ce2",
   "metadata": {},
   "source": [
    " opencvجمع وتفریق در "
   ]
  },
  {
   "cell_type": "markdown",
   "id": "e2e821dd",
   "metadata": {},
   "source": [
    "# یکی از کاربردهای جمع تصاویر(چندفریم پشت سرهم از یک تصویر) حذف نویزهاست"
   ]
  },
  {
   "cell_type": "code",
   "execution_count": 59,
   "id": "1f6045ab",
   "metadata": {},
   "outputs": [
    {
     "name": "stdout",
     "output_type": "stream",
     "text": [
      "(240, 320, 3)\n",
      "(240, 320, 3)\n",
      "(240, 320, 3)\n",
      "(240, 320, 3)\n",
      "(240, 320, 3)\n",
      "(240, 320, 3)\n",
      "(240, 320, 3)\n",
      "(240, 320, 3)\n",
      "(240, 320, 3)\n",
      "(240, 320, 3)\n",
      "(240, 320, 3)\n",
      "(240, 320, 3)\n",
      "(240, 320, 3)\n"
     ]
    }
   ],
   "source": [
    "from glob import glob\n",
    "import numpy as np\n",
    "import cv2\n",
    "\n",
    "#result = np.zeros((240,320,3),dtype='uint8')\n",
    "#print(result.shape)\n",
    "im_org = cv2.imread(r\"D:\\jupiter\\OpenCv\\tt0.jpg\")\n",
    "for i in glob(r\"D:\\jupiter\\OpenCv\\tt*.jpg\"):\n",
    "    img = cv2.imread(i)\n",
    "    print(img.shape)\n",
    "    #img = cv2.resize(img,(500,500))\n",
    "    img_org -= img//len(glob(r\"D:\\jupiter\\OpenCv\\tt*.jpg\"))\n",
    "    #result = cv2.add(result,img)#opencv جمع دو تصویر با\n",
    "    #result = np.add(result,img)#numpy  جمع دو تصویر با\n",
    "cv2.imshow(\"result\",result)\n",
    "cv2.waitKey(0)\n",
    "cv2.destroyAllWindows()"
   ]
  },
  {
   "cell_type": "markdown",
   "id": "db4028c9",
   "metadata": {},
   "source": [
    "# opencv ترکیب 2 عکس با "
   ]
  },
  {
   "cell_type": "code",
   "execution_count": 27,
   "id": "32adb959",
   "metadata": {},
   "outputs": [],
   "source": [
    "\n",
    "import numpy as np\n",
    "import cv2\n",
    "\n",
    "img1 = cv2.imread(r\"D:\\jupiter\\OpenCv\\face1.jpg\")\n",
    "img2 = cv2.imread(r\"D:\\jupiter\\OpenCv\\face2.jpg\")\n",
    "img2 = cv2.resize(img2,(img1.shape[1],img1.shape[0]))\n",
    "result = cv2.add(img1,img2)\n",
    "cv2.imshow(\"result\",result)\n",
    "cv2.waitKey(0)\n",
    "cv2.destroyAllWindows()"
   ]
  },
  {
   "cell_type": "markdown",
   "id": "83d8d859",
   "metadata": {},
   "source": [
    "# opencv تفریق 2 عکس با"
   ]
  },
  {
   "cell_type": "code",
   "execution_count": 28,
   "id": "3989f95d",
   "metadata": {},
   "outputs": [],
   "source": [
    "\n",
    "import numpy as np\n",
    "import cv2\n",
    "\n",
    "img1 = cv2.imread(r\"D:\\jupiter\\OpenCv\\a.tif\")# فرمتی که تصاویر را با جزییات نمایش میدهدمخصوص تصاویر پزشکیtif\n",
    "img2 = cv2.imread(r\"D:\\jupiter\\OpenCv\\b.tif\")\n",
    "\n",
    "result = cv2.subtract(img1,img2)\n",
    "result = result*2 # روشن کردن تصویر\n",
    "cv2.imshow(\"result\",result)\n",
    "cv2.waitKey(0)\n",
    "cv2.destroyAllWindows()"
   ]
  },
  {
   "cell_type": "markdown",
   "id": "97df7ab9",
   "metadata": {},
   "source": [
    "دوربین های ترموگرافی چگالی های اجسام را نشان میدهند و برای یادگیری ماشین بکار میرود"
   ]
  },
  {
   "cell_type": "code",
   "execution_count": 24,
   "id": "6a53a24a",
   "metadata": {},
   "outputs": [
    {
     "data": {
      "text/plain": [
       "array([[255]], dtype=uint8)"
      ]
     },
     "execution_count": 24,
     "metadata": {},
     "output_type": "execute_result"
    }
   ],
   "source": [
    "import numpy as np\n",
    "import cv2\n",
    "\n",
    "cv2.add(np.uint8([200]),np.uint8([505]))"
   ]
  },
  {
   "cell_type": "code",
   "execution_count": 1,
   "id": "41030398",
   "metadata": {},
   "outputs": [
    {
     "data": {
      "text/plain": [
       "array([[355]], dtype=uint16)"
      ]
     },
     "execution_count": 1,
     "metadata": {},
     "output_type": "execute_result"
    }
   ],
   "source": [
    "import numpy as np\n",
    "import cv2\n",
    "\n",
    "cv2.add(np.uint16([200]),np.uint16([155]))"
   ]
  },
  {
   "cell_type": "code",
   "execution_count": 29,
   "id": "d06eb70d",
   "metadata": {},
   "outputs": [
    {
     "data": {
      "text/plain": [
       "array([[0]], dtype=uint8)"
      ]
     },
     "execution_count": 29,
     "metadata": {},
     "output_type": "execute_result"
    }
   ],
   "source": [
    "import numpy as np\n",
    "import cv2\n",
    "\n",
    "cv2.subtract(np.uint8([200]),np.uint8([255]))"
   ]
  },
  {
   "cell_type": "code",
   "execution_count": 30,
   "id": "bf1c9bb6",
   "metadata": {},
   "outputs": [
    {
     "data": {
      "text/plain": [
       "array([[-55.]], dtype=float32)"
      ]
     },
     "execution_count": 30,
     "metadata": {},
     "output_type": "execute_result"
    }
   ],
   "source": [
    "import numpy as np\n",
    "import cv2\n",
    "\n",
    "cv2.subtract(np.float32([200]),np.float32([255]))"
   ]
  },
  {
   "cell_type": "markdown",
   "id": "d5f41d8a",
   "metadata": {},
   "source": [
    "# روشن وتیره کردن تصویر"
   ]
  },
  {
   "cell_type": "code",
   "execution_count": 29,
   "id": "9891db0e",
   "metadata": {},
   "outputs": [],
   "source": [
    "import cv2\n",
    "import numpy as np\n",
    "\n",
    "img = cv2.imread(r\"D:\\jupiter\\OpenCv\\lena.jpeg\")\n",
    "cv2.imshow(\"Orginal image\",img)\n",
    "\n",
    "M = np.ones(img.shape,dtype=\"uint8\")*100\n",
    "\n",
    "subtracted = img - M\n",
    "added = img + M\n",
    "cv2.imshow(\"Added by python\",added)\n",
    "cv2.imshow(\"Subtracted by python\",subtracted)\n",
    "\n",
    "subtracted = cv2.subtract(img , M)\n",
    "added = cv2.add(img,M)\n",
    "cv2.imshow(\"oAdded by Opencv\",added)\n",
    "cv2.imshow(\"oSubtracted by Opencv\",subtracted)\n",
    "\n",
    "cv2.waitKey()\n",
    "cv2.destroyAllWindows()"
   ]
  },
  {
   "cell_type": "markdown",
   "id": "5ae6bc17",
   "metadata": {},
   "source": [
    "# ترکیب تصویر با ماسک"
   ]
  },
  {
   "cell_type": "code",
   "execution_count": 1,
   "id": "7dab267e",
   "metadata": {},
   "outputs": [],
   "source": [
    "\n",
    "import numpy as np\n",
    "import cv2\n",
    "\n",
    "img1 = cv2.imread(r\"D:\\jupiter\\OpenCv\\c.tif\")\n",
    "img2 = cv2.imread(r\"D:\\jupiter\\OpenCv\\d.tif\")\n",
    "#print(np.min(img1))\n",
    "result = img1*(img2//255) # ترکیب یک تصویر بایک تصویر دیگر\n",
    "cv2.imshow(\"result\",result)\n",
    "cv2.waitKey(0)\n",
    "cv2.destroyAllWindows()"
   ]
  },
  {
   "cell_type": "code",
   "execution_count": 2,
   "id": "feecc26d",
   "metadata": {},
   "outputs": [
    {
     "data": {
      "text/plain": [
       "'C:\\\\Users\\\\Admin\\\\OpenCv'"
      ]
     },
     "execution_count": 2,
     "metadata": {},
     "output_type": "execute_result"
    }
   ],
   "source": [
    "pwd"
   ]
  },
  {
   "cell_type": "markdown",
   "id": "8242e750",
   "metadata": {},
   "source": [
    "# ترکیب 2 آرایه"
   ]
  },
  {
   "cell_type": "markdown",
   "id": "ed3a4dc3",
   "metadata": {},
   "source": [
    "dst = (a*array1)+(B*array2)+y#a,b =[0,1] a+b=1  y=sabet"
   ]
  },
  {
   "cell_type": "markdown",
   "id": "d3493644",
   "metadata": {},
   "source": [
    "output = cv2.addWeighted(scr1,alpha,scr2,beta,gamma)"
   ]
  },
  {
   "cell_type": "code",
   "execution_count": 68,
   "id": "30929bae",
   "metadata": {},
   "outputs": [],
   "source": [
    "import cv2\n",
    "\n",
    "img1 = cv2.imread(r\"D:\\jupiter\\OpenCv\\face1.jpg\")\n",
    "img2 = cv2.imread(r\"D:\\jupiter\\OpenCv\\face2.jpg\")\n",
    "img2 = cv2.resize(img2,(img1.shape[1],img1.shape[0]))\n",
    "\n",
    "output = cv2.addWeighted(img1,0.6,img2,0.4,20)\n",
    "cv2.imshow(\"tarkib\",output)\n",
    "cv2.waitKey()\n",
    "cv2.destroyAllWindows()"
   ]
  },
  {
   "cell_type": "markdown",
   "id": "7381bf09",
   "metadata": {},
   "source": [
    "# ماکزیمم و مینیمم در آرایه"
   ]
  },
  {
   "cell_type": "markdown",
   "id": "ea1ba2fd",
   "metadata": {},
   "source": [
    "پایتون"
   ]
  },
  {
   "cell_type": "code",
   "execution_count": 41,
   "id": "172c9efb",
   "metadata": {},
   "outputs": [
    {
     "data": {
      "text/plain": [
       "1"
      ]
     },
     "execution_count": 41,
     "metadata": {},
     "output_type": "execute_result"
    }
   ],
   "source": [
    "a = [1,5,6,9]\n",
    "max(a)\n",
    "min(a)"
   ]
  },
  {
   "cell_type": "markdown",
   "id": "d48f6d8f",
   "metadata": {},
   "source": [
    "opencv,numpy"
   ]
  },
  {
   "cell_type": "code",
   "execution_count": 34,
   "id": "cb26bf0a",
   "metadata": {},
   "outputs": [
    {
     "name": "stdout",
     "output_type": "stream",
     "text": [
      "[[ 9  4  5]\n",
      " [11 10  7]]\n",
      "[[ 2  4  2]\n",
      " [ 2 10  7]]\n",
      "10\n",
      "-22\n",
      "[[ 2  4  2]\n",
      " [ 2 10  7]]\n"
     ]
    }
   ],
   "source": [
    "import cv2\n",
    "import numpy as np\n",
    "\n",
    "a = np.array([[1,4,0],[-3,10,7]])\n",
    "b = np.array([[9,-22,5],[11,6,2]])\n",
    "\n",
    "print(np.maximum(a,b))\n",
    "print(np.maximum(a,2))\n",
    "#print(np.minimum(a,b))\n",
    "\n",
    "print(np.max(a))\n",
    "print(np.min(b))\n",
    "\n",
    "#print(cv2.max(a,b))\n",
    "#print(cv2.min(a,b))\n",
    "print(cv2.max(a,2))\n"
   ]
  },
  {
   "cell_type": "markdown",
   "id": "23ba8bc0",
   "metadata": {},
   "source": [
    "# اندیس کمترین وبیشترین داده ها"
   ]
  },
  {
   "cell_type": "markdown",
   "id": "f35a6df0",
   "metadata": {},
   "source": [
    "np.argmin(a)\n",
    "\n",
    "np.argmax(a)"
   ]
  },
  {
   "cell_type": "code",
   "execution_count": 7,
   "id": "152d452f",
   "metadata": {},
   "outputs": [
    {
     "name": "stdout",
     "output_type": "stream",
     "text": [
      "3\n",
      "4\n"
     ]
    }
   ],
   "source": [
    "import numpy as np\n",
    "\n",
    "a = np.array([[[1,4,0],[-3,10,7]]])\n",
    "b = np.array([9,-22,5,1,11,6,2])\n",
    "print(np.argmin(a))\n",
    "print(np.argmax(b))"
   ]
  },
  {
   "cell_type": "markdown",
   "id": "81f53176",
   "metadata": {},
   "source": [
    "# میانگین وانحراف معیار"
   ]
  },
  {
   "cell_type": "markdown",
   "id": "712e25bc",
   "metadata": {},
   "source": [
    "نسبت مجموع تمام درایه های یک آرایه به تعداد کل درایه ها را میانگین گویند\n",
    "مقدار تغییر یا پراکندگی داده ها ازمیانگین را انحراف معیار گویندوبا آلفا نمایش میدهند"
   ]
  },
  {
   "cell_type": "markdown",
   "id": "b3b0242a",
   "metadata": {},
   "source": [
    " mean , std درپایتون\n",
    "    \n",
    "meanStdDev/ opencv در     "
   ]
  },
  {
   "cell_type": "code",
   "execution_count": 4,
   "id": "b2d16f40",
   "metadata": {},
   "outputs": [
    {
     "name": "stdout",
     "output_type": "stream",
     "text": [
      "4.0\n",
      "1.632993161855452\n",
      "(array([[4.]]), array([[1.63299316]]))\n"
     ]
    }
   ],
   "source": [
    "import cv2\n",
    "import numpy as np\n",
    "\n",
    "a = np.array([1,2,3,4,5,6,6,5,4])\n",
    "print(a.mean())\n",
    "print(a.std())\n",
    "\n",
    "print(cv2.meanStdDev(a))"
   ]
  },
  {
   "cell_type": "markdown",
   "id": "4fb0c39a",
   "metadata": {},
   "source": [
    "# بریدن آرایه"
   ]
  },
  {
   "cell_type": "markdown",
   "id": "b775bd7f",
   "metadata": {},
   "source": [
    "np.clip(x,a,b)#بازه بالا وپایینa,b"
   ]
  },
  {
   "cell_type": "code",
   "execution_count": 12,
   "id": "2783bbcb",
   "metadata": {},
   "outputs": [
    {
     "data": {
      "text/plain": [
       "array([10,  3,  3,  4,  5,  6,  7,  8,  9, 10, 10,  3,  3, 10, 10, 10])"
      ]
     },
     "execution_count": 12,
     "metadata": {},
     "output_type": "execute_result"
    }
   ],
   "source": [
    "import numpy as np\n",
    "import cv2\n",
    "\n",
    "x = np.array([10,2,3,4,5,6,7,8,9,10,11,2,1,12,13,14])\n",
    "#x = cv2.imread(\"C:\\\\Users\\\\NSC\\\\Pictures\\\\Fire\\\\7.png\")\n",
    "x_new = np.clip(x,3,10)\n",
    "#cv2.imshow(\"s\",x_new)\n",
    "#cv2.waitKey(0)\n",
    "#cv2.destroyAllWindows()\n",
    "#np.clip(x,None,7)\n",
    "x_new"
   ]
  },
  {
   "cell_type": "markdown",
   "id": "b33408a5",
   "metadata": {},
   "source": [
    "# رنگ آمیزی یک تصویر برحسب رنگ های تصویر دیگر"
   ]
  },
  {
   "cell_type": "code",
   "execution_count": 26,
   "id": "1e7d66cd",
   "metadata": {},
   "outputs": [],
   "source": [
    "import cv2\n",
    "import numpy as np\n",
    "\n",
    "def devation(image):\n",
    "    (L,A,B) = cv2.split(image)\n",
    "    (Lmean,Lstd) = (L.mean(),L.std())\n",
    "    (Amean,Astd) = (A.mean(),A.std())\n",
    "    (Bmean,Bstd) = (B.mean(),B.std())\n",
    "    \n",
    "    return (Lmean,Lstd,Amean,Astd,Bmean,Bstd)\n",
    "\n",
    "def color_transfer(source,target):\n",
    "    source = cv2.cvtColor(source,cv2.COLOR_BGR2LAB)\n",
    "    target = cv2.cvtColor(target,cv2.COLOR_BGR2LAB)\n",
    "    source = source.astype(\"float32\")\n",
    "    target = target.astype(\"float32\")\n",
    "    (Lmean_src,Lstd_src,Amean_src,Astd_src,Bmean_src,Bstd_src) = devation(source)\n",
    "    (Lmean_tar,Lstd_tar,Amean_tar,Astd_tar,Bmean_tar,Bstd_tar) = devation(target)\n",
    "    \n",
    "    (l,a,b) = cv2.split(target)\n",
    "    l -=Lmean_tar\n",
    "    a -=Amean_tar\n",
    "    b -=Bmean_tar\n",
    "    \n",
    "    l = (Lstd_tar / Lstd_src) * l\n",
    "    a = (Astd_tar / Astd_src) * a\n",
    "    b = (Bstd_tar / Bstd_src) * b\n",
    "    \n",
    "    l += Lmean_src\n",
    "    a += Amean_src\n",
    "    b += Bmean_src\n",
    "    \n",
    "    l = np.clip(l,0,255)\n",
    "    a = np.clip(a,0,255)\n",
    "    b = np.clip(b,0,255)\n",
    "    \n",
    "    transfer = cv2.merge([l,a,b])\n",
    "    transfer.astype(\"uint8\")\n",
    "    transfer = cv2.cvtColor(transfer,cv2.COLOR_LAB2BGR)\n",
    "    return transfer\n",
    "\n",
    "\n",
    "source = cv2.imread(\"C:\\\\Users\\\\NSC\\\\Pictures\\\\car\\\\1.png\")\n",
    "target = cv2.imread(\"C:\\\\Users\\\\NSC\\\\Pictures\\\\car\\\\8.png\")\n",
    "transfreed = color_transfer(source,target)\n",
    "\n",
    "cv2.imshow('Source',source)\n",
    "cv2.imshow('Target',target)\n",
    "cv2.imshow('Transfreed',transfreed)\n",
    "\n",
    "cv2.waitKey(0)\n",
    "cv2.destroyAllWindows()\n",
    "    "
   ]
  },
  {
   "cell_type": "markdown",
   "id": "525be19f",
   "metadata": {},
   "source": [
    "# تعداد درایه های غیر صفر"
   ]
  },
  {
   "cell_type": "markdown",
   "id": "296fdde9",
   "metadata": {},
   "source": [
    "cv2.countNonZero(x)#تک کاناله یا باینری"
   ]
  },
  {
   "cell_type": "code",
   "execution_count": 21,
   "id": "831d1250",
   "metadata": {},
   "outputs": [
    {
     "data": {
      "text/plain": [
       "6"
      ]
     },
     "execution_count": 21,
     "metadata": {},
     "output_type": "execute_result"
    }
   ],
   "source": [
    "import cv2\n",
    "import numpy as np\n",
    "x = np.array([1,5,0,-4,9,11,3,0,0])\n",
    "cv2.countNonZero(x)"
   ]
  },
  {
   "cell_type": "markdown",
   "id": "cfeebdbd",
   "metadata": {},
   "source": [
    "# تبدیل عدد به رشته وبرعکس"
   ]
  },
  {
   "cell_type": "markdown",
   "id": "e0d1f3d0",
   "metadata": {},
   "source": [
    "eval('') , str()"
   ]
  },
  {
   "cell_type": "code",
   "execution_count": 28,
   "id": "12901c5f",
   "metadata": {},
   "outputs": [
    {
     "name": "stdout",
     "output_type": "stream",
     "text": [
      "100\n"
     ]
    },
    {
     "data": {
      "text/plain": [
       "'100'"
      ]
     },
     "execution_count": 28,
     "metadata": {},
     "output_type": "execute_result"
    }
   ],
   "source": [
    "print(eval(\"100\"))\n",
    "str(100)"
   ]
  },
  {
   "cell_type": "markdown",
   "id": "02718522",
   "metadata": {},
   "source": [
    "# نرمالیزه کردن آرایه\n",
    "norm() = جذرمجموع مربع های اعضا-نرم آرایه\n",
    "\n",
    "normalize() = برای نرمالایز کردن-هر عضو تقسیم بر نرم"
   ]
  },
  {
   "cell_type": "markdown",
   "id": "05c92722",
   "metadata": {},
   "source": [
    "output = cv2.normalize(src,dst,alpha,beta,normType)\n",
    "\n",
    "src آرایه نرمالایز نشده\n",
    "\n",
    "dstآرایه خروجی که هم اندازه ورودی است\n",
    "\n",
    "alpha,betaاز چپ به راست -حد پایین و بالای دامنه ای که داده ها باید در آن محدوده قرار بگیرند\n",
    "\n",
    "normtype پرچم تعیین کننده نحوه محاسبه نرم که 4حالت دارد\n",
    "\n",
    "1-cv2.NORM_INFنرم برابر است با بزرگترین قدر مطلق اعضا\n",
    "\n",
    "2-cv2.NORM_L1نرم برابر با مجموع قدر مطلق اعضا\n",
    "\n",
    "3-cv2.NORM_L2نرم برابر با جذرمجموع مربع های اعضا که پیشفرض نیز است\n",
    "\n",
    "4-cv2.NORM_MINMAXنرم برحسب آلفا و بتا انجام میشود"
   ]
  },
  {
   "cell_type": "code",
   "execution_count": 25,
   "id": "53b3b269",
   "metadata": {},
   "outputs": [
    {
     "data": {
      "text/plain": [
       "1032.34974693657"
      ]
     },
     "execution_count": 25,
     "metadata": {},
     "output_type": "execute_result"
    }
   ],
   "source": [
    "import cv2\n",
    "import numpy as np\n",
    "x = np .array([4,0,13,-4,22,255,1000,0,6],dtype=\"float32\")\n",
    "cv2.norm(x)"
   ]
  },
  {
   "cell_type": "code",
   "execution_count": 26,
   "id": "f9351ccf",
   "metadata": {},
   "outputs": [
    {
     "name": "stdout",
     "output_type": "stream",
     "text": [
      "[ 0.00387466  0.          0.01259263 -0.00387466  0.02131061  0.2470093\n",
      "  0.96866393  0.          0.00581198]\n",
      "0.999999965117357\n"
     ]
    }
   ],
   "source": [
    "cv2.normalize(x,x)\n",
    "print(x)\n",
    "print(cv2.norm(x))"
   ]
  },
  {
   "cell_type": "code",
   "execution_count": 34,
   "id": "52c4064d",
   "metadata": {},
   "outputs": [
    {
     "data": {
      "text/plain": [
       "array([  3.088803 ,   1.5444015,   6.5637064,   0.       ,  10.0386095,\n",
       "       100.       ,  50.965252 ,   1.5444015,   3.8610039], dtype=float32)"
      ]
     },
     "execution_count": 34,
     "metadata": {},
     "output_type": "execute_result"
    }
   ],
   "source": [
    "import cv2\n",
    "import numpy as np\n",
    "x = np .array([4,0,13,-4,22,255,128,0,6],dtype=\"float32\")\n",
    "cv2.normalize(x,x,0,100,cv2.NORM_MINMAX)"
   ]
  },
  {
   "cell_type": "code",
   "execution_count": 7,
   "id": "9011d388",
   "metadata": {},
   "outputs": [
    {
     "data": {
      "text/plain": [
       "array([  6.177606 ,   3.088803 ,  13.127413 ,   0.       ,  20.077219 ,\n",
       "       200.       , 101.930504 ,   3.088803 ,   7.7220078], dtype=float32)"
      ]
     },
     "execution_count": 7,
     "metadata": {},
     "output_type": "execute_result"
    }
   ],
   "source": [
    "import cv2\n",
    "import numpy as np\n",
    "x = np .array([4,0,13,-4,22,255,128,0,6],dtype=\"float32\")\n",
    "cv2.normalize(x,x,0,200,cv2.NORM_MINMAX)"
   ]
  },
  {
   "cell_type": "markdown",
   "id": "120045d7",
   "metadata": {},
   "source": [
    "# تولید اعداد تصادفی"
   ]
  },
  {
   "cell_type": "markdown",
   "id": "66275771",
   "metadata": {},
   "source": [
    "np.random.randint(low,hight,size(ابعادارایه یا ماتریس))برای تولید رنگ یا مختصات تصادفی\n",
    "\n",
    "np.random.randn(d0,d1,...,dn)برای ایجاد نویز-اعداد با میانگین0وواریانس1-ایجادمیکند-dابعادماتریس"
   ]
  },
  {
   "cell_type": "markdown",
   "id": "3dc57054",
   "metadata": {},
   "source": [
    "# افزودن نویز به تصویر"
   ]
  },
  {
   "cell_type": "code",
   "execution_count": 32,
   "id": "7a6b81c7",
   "metadata": {},
   "outputs": [],
   "source": [
    "import cv2\n",
    "import numpy as np\n",
    "\n",
    "image = cv2.imread(\"s.png\")\n",
    "img = np.float64(image)\n",
    "#print(*img.shape)\n",
    "#print(img)\n",
    "\n",
    "noise = np.random.randn(*img.shape)*80\n",
    "#print(noise)\n",
    "noisy_img = img+noise\n",
    "noisy_img = np.uint8(np.clip(noisy_img,0,255))\n",
    "#noisy_img = np.uint8(noisy_img)\n",
    "\n",
    "cv2.imshow('Apply noise to original image',np.hstack ([image,noisy_img]))\n",
    "cv2.imshow('Noise',noise)\n",
    "cv2.waitKey()\n",
    "cv2.destroyAllWindows()"
   ]
  },
  {
   "cell_type": "code",
   "execution_count": 37,
   "id": "750e1b0b",
   "metadata": {},
   "outputs": [
    {
     "data": {
      "text/plain": [
       "array([[[[ 0.81437877]],\n",
       "\n",
       "        [[ 0.05785976]]],\n",
       "\n",
       "\n",
       "       [[[ 0.21239549]],\n",
       "\n",
       "        [[ 0.42696458]]],\n",
       "\n",
       "\n",
       "       [[[-0.35192032]],\n",
       "\n",
       "        [[ 0.30363256]]]])"
      ]
     },
     "execution_count": 37,
     "metadata": {},
     "output_type": "execute_result"
    }
   ],
   "source": [
    "import numpy as np\n",
    "np.random.randn(3,2,1,1)"
   ]
  },
  {
   "cell_type": "code",
   "execution_count": 41,
   "id": "69e07208",
   "metadata": {},
   "outputs": [
    {
     "data": {
      "text/plain": [
       "array([[[4, 8, 8, 2],\n",
       "        [4, 2, 9, 8],\n",
       "        [6, 6, 5, 3]],\n",
       "\n",
       "       [[9, 8, 4, 7],\n",
       "        [6, 2, 7, 7],\n",
       "        [6, 3, 3, 3]]])"
      ]
     },
     "execution_count": 41,
     "metadata": {},
     "output_type": "execute_result"
    }
   ],
   "source": [
    "import numpy as np\n",
    "np.random.randint(1,10,(2,3,4))"
   ]
  },
  {
   "cell_type": "markdown",
   "id": "9299399b",
   "metadata": {},
   "source": [
    "# inRange تابع \n",
    "\n",
    "output = cv2.inRange(src,lowerb,upperb)بررسی حضور یاعدم حضورداده ها در بازه مورد نظر را دارد\n"
   ]
  },
  {
   "cell_type": "code",
   "execution_count": 28,
   "id": "d39d4c70",
   "metadata": {},
   "outputs": [
    {
     "data": {
      "text/plain": [
       "array([[  0],\n",
       "       [255],\n",
       "       [255],\n",
       "       [255],\n",
       "       [255],\n",
       "       [255],\n",
       "       [  0],\n",
       "       [  0],\n",
       "       [  0],\n",
       "       [  0]], dtype=uint8)"
      ]
     },
     "execution_count": 28,
     "metadata": {},
     "output_type": "execute_result"
    }
   ],
   "source": [
    "import cv2\n",
    "import numpy as np\n",
    "\n",
    "a = np.array([1,2,3,4,5,6,7,8,9,10])\n",
    "cv2.inRange(a,2,6)"
   ]
  },
  {
   "cell_type": "markdown",
   "id": "196b59ec",
   "metadata": {},
   "source": [
    "# عملگرهای منطقی"
   ]
  },
  {
   "cell_type": "markdown",
   "id": "29d96f94",
   "metadata": {},
   "source": [
    "bitwise_xor()\n",
    "\n",
    "bitwise_not()\n",
    "\n",
    "bitwise_or(img1,img2,mask=)\n",
    "\n",
    "bitwise_and(img1,img2,mask=)"
   ]
  },
  {
   "cell_type": "code",
   "execution_count": 42,
   "id": "9a65ceff",
   "metadata": {},
   "outputs": [],
   "source": [
    "import cv2\n",
    "cam = cv2.VideoCapture(0)\n",
    "lowerG = (30,100,45)\n",
    "upperG = (70,255,240)\n",
    "\n",
    "while True:\n",
    "    if cv2.waitKey(1) == 27:\n",
    "        break\n",
    "    _,frame = cam.read()\n",
    "    frame_hsv = cv2.cvtColor(frame,cv2.COLOR_BGR2HSV)\n",
    "    mask = cv2.inRange(frame_hsv,lowerG,upperG)\n",
    "  #  print(mask)\n",
    "    green_obj = cv2.bitwise_and(frame,frame,mask=mask)\n",
    "    #print(green_obj)\n",
    "    cv2.imshow(\"Original Frame\",frame)\n",
    "    cv2.imshow(\"Mask\",mask)\n",
    "    cv2.imshow(\"Dtecting Green Objects\",green_obj)\n",
    "cam.release()\n",
    "cv2.destroyAllWindows()"
   ]
  },
  {
   "cell_type": "code",
   "execution_count": 7,
   "id": "3bea20ef",
   "metadata": {},
   "outputs": [
    {
     "name": "stdout",
     "output_type": "stream",
     "text": [
      "please Enter shape of tensor:12365\n"
     ]
    },
    {
     "data": {
      "text/plain": [
       "('1', '2', '3', '6', '5')"
      ]
     },
     "execution_count": 7,
     "metadata": {},
     "output_type": "execute_result"
    }
   ],
   "source": [
    "(tuple(input(\"please Enter shape of tensor:\")))"
   ]
  }
 ],
 "metadata": {
  "kernelspec": {
   "display_name": "Python 3 (ipykernel)",
   "language": "python",
   "name": "python3"
  },
  "language_info": {
   "codemirror_mode": {
    "name": "ipython",
    "version": 3
   },
   "file_extension": ".py",
   "mimetype": "text/x-python",
   "name": "python",
   "nbconvert_exporter": "python",
   "pygments_lexer": "ipython3",
   "version": "3.10.9"
  }
 },
 "nbformat": 4,
 "nbformat_minor": 5
}
